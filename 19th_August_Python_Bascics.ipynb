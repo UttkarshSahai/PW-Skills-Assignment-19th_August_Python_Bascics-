{
 "cells": [
  {
   "cell_type": "markdown",
   "id": "72f86975",
   "metadata": {},
   "source": [
    "# TOPIC: Python Basics Variable"
   ]
  },
  {
   "cell_type": "raw",
   "id": "90649d5b",
   "metadata": {},
   "source": [
    "1.Declare two variables, `x` and `y`, and assign them integer values.\n",
    "Swap the values of these variables without using any temporary\n",
    "variable."
   ]
  },
  {
   "cell_type": "code",
   "execution_count": 1,
   "id": "d76c3224",
   "metadata": {},
   "outputs": [
    {
     "name": "stdout",
     "output_type": "stream",
     "text": [
      "Enter the value of x:12\n",
      "Enter the value of y:86\n",
      "After swapping: x = 86 , y = 12\n"
     ]
    }
   ],
   "source": [
    "# Assign the integer value\n",
    "x=int(input(\"Enter the value of x:\"))\n",
    "y=int(input(\"Enter the value of y:\"))\n",
    "\n",
    "# Swapping the values\n",
    "x = x + y \n",
    "y = x - y  \n",
    "x = x - y  \n",
    "\n",
    "# Print the swapp value\n",
    "print(\"After swapping: x =\", x, \", y =\", y)"
   ]
  },
  {
   "cell_type": "raw",
   "id": "260763db",
   "metadata": {},
   "source": [
    "2.Create a program that calculates the area of a rectangle. Take the\n",
    "length and width as inputs from the user and store them in variables.\n",
    "Calculate and display the area."
   ]
  },
  {
   "cell_type": "code",
   "execution_count": 2,
   "id": "e749b3df",
   "metadata": {},
   "outputs": [
    {
     "name": "stdout",
     "output_type": "stream",
     "text": [
      "Enter the Length of the Rectangle:9\n",
      "Enter the Width of the Rectangle:3\n",
      "Area of the rectangle is: 27\n"
     ]
    }
   ],
   "source": [
    "# Take Input Lenght(l) and Width(b) form the user\n",
    "l=int(input(\"Enter the Length of the Rectangle:\"))\n",
    "b=int(input(\"Enter the Width of the Rectangle:\"))\n",
    "\n",
    "# Write a formula for calculating the area of rectangle\n",
    "area=(l*b)\n",
    "\n",
    "# Print the area of the rectangle \n",
    "print(\"Area of the rectangle is:\",area)"
   ]
  },
  {
   "cell_type": "raw",
   "id": "114d7134",
   "metadata": {},
   "source": [
    "3.Write a Python program that converts temperature from Celsius to\n",
    "Fahrenheit. Take the temperature in Celsius as input, store it in a\n",
    "variable, convert it to Fahrenheit, and display the result."
   ]
  },
  {
   "cell_type": "code",
   "execution_count": 3,
   "id": "e6f1b596",
   "metadata": {},
   "outputs": [
    {
     "name": "stdout",
     "output_type": "stream",
     "text": [
      "Enter the Temperature in Celsius:5989\n",
      "Temperature in Fahrenheit: 10812.2 °F\n"
     ]
    }
   ],
   "source": [
    "# Take Input the Temperature in Celsius\n",
    "cel=float(input(\"Enter the Temperature in Celsius:\"))\n",
    "\n",
    "# Creating the formula for converting the Celsius into the Fahrenheit\n",
    "far=(cel*1.8)+32\n",
    "\n",
    "# Print the converted Temperature i.e., into the Fahrenheit\n",
    "print(\"Temperature in Fahrenheit:\",far,\"°F\")"
   ]
  },
  {
   "cell_type": "markdown",
   "id": "1390bdd4",
   "metadata": {},
   "source": [
    "# TOPIC: String Based Questions "
   ]
  },
  {
   "cell_type": "raw",
   "id": "1a8f0b46",
   "metadata": {},
   "source": [
    "1.Write a Python program that takes a string as input and prints the\n",
    "length of the string."
   ]
  },
  {
   "cell_type": "code",
   "execution_count": 4,
   "id": "eb76a79b",
   "metadata": {},
   "outputs": [
    {
     "name": "stdout",
     "output_type": "stream",
     "text": [
      "Enter String:Hello how are you.\n",
      "18\n"
     ]
    }
   ],
   "source": [
    "# Take Input into the String\n",
    "string=str(input(\"Enter String:\"))\n",
    "\n",
    "# Program for calculating the lenght of the string\n",
    "lenght=len(string)\n",
    "\n",
    "# Print the length of the String\n",
    "print(lenght)"
   ]
  },
  {
   "cell_type": "raw",
   "id": "2c7f762f",
   "metadata": {},
   "source": [
    "2.Create a program that takes a sentence from the user and counts the\n",
    "number of vowels (a, e, i, o, u) in the string."
   ]
  },
  {
   "cell_type": "code",
   "execution_count": 10,
   "id": "21352ae8",
   "metadata": {},
   "outputs": [
    {
     "name": "stdout",
     "output_type": "stream",
     "text": [
      "Enter a sentence: Hello how are you?\n",
      "The number of vowels in the input sentence is: 7\n"
     ]
    }
   ],
   "source": [
    "# Taking the input sentence from the user\n",
    "input_sentence = str(input(\"Enter a sentence: \"))\n",
    "\n",
    "# Initializing the count of vowels to 0\n",
    "vowel_count = 0\n",
    "\n",
    "# Iterating over each character in the input sentence\n",
    "for char in input_sentence:\n",
    "    \n",
    "    # Checking if the character is a vowel\n",
    "    if char in \"aeiouAEIOU\":\n",
    "        # If it is a vowel, incrementing the vowel count\n",
    "        vowel_count = vowel_count+1\n",
    "\n",
    "# Printing the number of vowels in the input sentence\n",
    "print(\"The number of vowels in the input sentence is:\", vowel_count)\n"
   ]
  },
  {
   "cell_type": "raw",
   "id": "a1dd0d90",
   "metadata": {},
   "source": [
    "3.Given a string, reverse the order of characters using string slicing and\n",
    "print the reversed string."
   ]
  },
  {
   "cell_type": "code",
   "execution_count": 6,
   "id": "c77487fc",
   "metadata": {},
   "outputs": [
    {
     "name": "stdout",
     "output_type": "stream",
     "text": [
      "Enter the String: Hello how are you\n",
      "Reversed String is: uoy era woh olleH\n"
     ]
    }
   ],
   "source": [
    "# Take Input from the User\n",
    "string=str(input(\"Enter the String: \"))\n",
    "\n",
    "# Make a logic to reverse the string\n",
    "reverse=string[::-1]\n",
    "\n",
    "# Print the reversed String\n",
    "print(\"Reversed String is:\",reverse)"
   ]
  },
  {
   "cell_type": "raw",
   "id": "a175751c",
   "metadata": {},
   "source": [
    "4.Write a program that takes a string as input and checks if it is a\n",
    "palindrome (reads the same forwards and backwards)."
   ]
  },
  {
   "cell_type": "code",
   "execution_count": 9,
   "id": "f8aefd30",
   "metadata": {},
   "outputs": [
    {
     "name": "stdout",
     "output_type": "stream",
     "text": [
      "Enter the String: hehe\n",
      "String is not Palindrome\n"
     ]
    }
   ],
   "source": [
    "# Take Input from the User\n",
    "string=str(input(\"Enter the String: \"))\n",
    "\n",
    "# Make a logic to reverse the string\n",
    "reverse=string[::-1]\n",
    "\n",
    "#Check the number is Palindrome or not\n",
    "if string==reverse:\n",
    "    print(\"String is Palindrome\")\n",
    "    \n",
    "else:\n",
    "    print(\"String is not Palindrome\")"
   ]
  },
  {
   "cell_type": "raw",
   "id": "84cccfe4",
   "metadata": {},
   "source": [
    "5.Create a program that takes a string as input and removes all the\n",
    "spaces from it. Print the modified string without spaces."
   ]
  },
  {
   "cell_type": "code",
   "execution_count": 8,
   "id": "980c4643",
   "metadata": {},
   "outputs": [
    {
     "name": "stdout",
     "output_type": "stream",
     "text": [
      "Enter a string: Hello how are you\n",
      "The modified string without spaces is: Hellohowareyou\n"
     ]
    }
   ],
   "source": [
    "# Take input string from the user\n",
    "input_string = input(\"Enter a string: \")\n",
    "\n",
    "# Removing all the spaces from the input string\n",
    "modified_string = input_string.replace(\" \", \"\")\n",
    "\n",
    "# Printing the modified string without spaces\n",
    "print(\"The modified string without spaces is:\", modified_string)\n"
   ]
  }
 ],
 "metadata": {
  "kernelspec": {
   "display_name": "Python 3 (ipykernel)",
   "language": "python",
   "name": "python3"
  },
  "language_info": {
   "codemirror_mode": {
    "name": "ipython",
    "version": 3
   },
   "file_extension": ".py",
   "mimetype": "text/x-python",
   "name": "python",
   "nbconvert_exporter": "python",
   "pygments_lexer": "ipython3",
   "version": "3.9.16"
  }
 },
 "nbformat": 4,
 "nbformat_minor": 5
}
